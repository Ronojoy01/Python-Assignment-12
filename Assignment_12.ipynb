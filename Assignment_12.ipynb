{
 "cells": [
  {
   "cell_type": "raw",
   "id": "68e8a8c1",
   "metadata": {},
   "source": [
    "# Assignment_12"
   ]
  },
  {
   "cell_type": "raw",
   "id": "b9925c59",
   "metadata": {},
   "source": [
    " 1. In what modes should the PdfFileReader() and PdfFileWriter() File objects will be opened?\n",
    "Ans - Read-binary ('rb') for PdfFileReader() and write-binary ('wb') for PdfFileWriter()"
   ]
  },
  {
   "cell_type": "raw",
   "id": "fafd76a3",
   "metadata": {},
   "source": [
    " 2. From a PdfFileReader object, how do you get a Page object for page 5?\n",
    "Ans - Calling getPage(4) will return a Page object for page 5, since page 0 is the first page."
   ]
  },
  {
   "cell_type": "raw",
   "id": "631a07ba",
   "metadata": {},
   "source": [
    " 3. What PdfFileReader variable stores the number of pages in the PDF document?\n",
    " Ans -  The numPages variable stores an integer of the number of pages in the PdfFileReader object."
   ]
  },
  {
   "cell_type": "raw",
   "id": "9923c628",
   "metadata": {},
   "source": [
    " 4. If a PdfFileReader object’s PDF is encrypted with the password swordfish, what must you do before you can obtain Page objects from it?\n",
    "Ans -  We have to Call decrypt('swordfish')."
   ]
  },
  {
   "cell_type": "raw",
   "id": "61bb5859",
   "metadata": {},
   "source": [
    " 5. What methods do you use to rotate a page?\n",
    "Ans - The rotateClockwise() and rotateCounterClockwise() methods."
   ]
  },
  {
   "cell_type": "raw",
   "id": "159e4e3d",
   "metadata": {},
   "source": [
    " 6. What is the difference between a Run object and a Paragraph object?\n",
    "Ans -  A paragraph begins on a new line and contains multiple runs. Runs are continuous groups of characters within a paragraph."
   ]
  },
  {
   "cell_type": "raw",
   "id": "02d7cfe2",
   "metadata": {},
   "source": [
    " 7. How do you obtain a list of Paragraph objects for a Document object that’s stored in a variable named doc?\n",
    "Ans - We have to use  doc.paragraphs"
   ]
  },
  {
   "cell_type": "raw",
   "id": "3c5140f7",
   "metadata": {},
   "source": [
    "8. What type of object has bold, underline, italic, strike, and outline variables?\n",
    "Ans  - Run object ."
   ]
  },
  {
   "cell_type": "raw",
   "id": "6a5f5f03",
   "metadata": {},
   "source": [
    " 9. What is the difference between False, True, and None for the bold variable?\n",
    "Ans True always makes the Run object bolded and False makes it always not bolded, no matter what the style’s bold setting is. None will make the Run object just use the style’s bold setting."
   ]
  },
  {
   "cell_type": "raw",
   "id": "03a1faa4",
   "metadata": {},
   "source": [
    "10. How do you create a Document object for a new Word document?\n",
    "Ans - f = open('foobar.docx', 'rb')\n",
    "document = Document(f)\n",
    "f.close()"
   ]
  },
  {
   "cell_type": "raw",
   "id": "596502de",
   "metadata": {},
   "source": [
    " 11. How do you add a paragraph with the text 'Hello, there!' to a Document object stored in a variable named doc?\n",
    " Ans - doc.add_paragraph('Hello there!')"
   ]
  },
  {
   "cell_type": "raw",
   "id": "35d5f333",
   "metadata": {},
   "source": [
    "12. What integers represent the levels of headings available in Word documents?\n",
    "\n",
    "Ans - The integers 0, 1, 2, 3, and 4"
   ]
  },
  {
   "cell_type": "code",
   "execution_count": null,
   "id": "e308815e",
   "metadata": {},
   "outputs": [],
   "source": []
  }
 ],
 "metadata": {
  "kernelspec": {
   "display_name": "Python 3 (ipykernel)",
   "language": "python",
   "name": "python3"
  },
  "language_info": {
   "codemirror_mode": {
    "name": "ipython",
    "version": 3
   },
   "file_extension": ".py",
   "mimetype": "text/x-python",
   "name": "python",
   "nbconvert_exporter": "python",
   "pygments_lexer": "ipython3",
   "version": "3.9.7"
  }
 },
 "nbformat": 4,
 "nbformat_minor": 5
}
